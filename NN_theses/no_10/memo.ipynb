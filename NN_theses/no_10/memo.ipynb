{
 "cells": [
  {
   "cell_type": "markdown",
   "metadata": {},
   "source": [
    "# メモ書き\n",
    "## MIXED PRECISION TRAINING\n",
    "- 最近のDNNモデルは徐々に巨大化しており、それに伴いより多くの計算やメモリーへのリソースが学習の際に必要となる。それらの必要となるリソースは、精度を低くすることにより、減らすことができる。\n",
    "- 学習や推論等を行う速度は以下の3つによって決まる。\n",
    "    1. 演算速度\n",
    "    2. メモリ速度\n",
    "    3. レイテンシ<br>\n",
    "    最初の2つは扱う精度を低くすることにより、向上させることができる。<br>\n",
    "        - 精度を低くすることにより(例:FP32→FP16)、同じ値をより少ないビット数でメモリに持たせることができる。\n",
    "        - より少ない精度を使用することにより、演算しなければならないビット数も減らせることができる。例を挙げると、FP16を使用して最新のGPUで演算を行うと、FP32で演算した時と比べて、2倍～8倍のスループットを実現する。\n",
    "- 今回提案する手法は、FP32の代わりにFP16を使用し、様々なNNモデルでaccuracyを保ちつつ、演算速度をあげることを検証する。\n",
    "- FP32からFP16に代えても、モデルのaccuracyを保つために以下3つの提案する。\n",
    "    1. FP32で重みの値を保持する\n",
    "    2. 勾配が0になることを防ぐためのロススケーリング\n",
    "    3. FP16とFP32の混合演算\n",
    "    <br><span style=\"color: red; \">**※**</span>なお上3つのことを行う上で、モデルやハイパーパラメータを変更する必要はない\n",
    "***\n",
    "## Training With Mixed Precision :: DEEP LEARNING SDK DOCUMENTATION\n",
    "- Mixed Presicion Trainingを使用するためには、以下2つのステップが必要。<br>\n",
    "    1. 計算上FP16で事が足りる箇所はFP16を適用する<br>\n",
    "    2. 勾配の値が小さくなっても保持するためにロススケーリングを使用する<br>\n",
    "- より小さな精度で演算を行うメリットは以下の2つ<br>\n",
    "    1. **メモリー使用量を削減**<br>\n",
    "    例を挙げると、普段使用する精度はFP32(32ビット必要)。対してFP16(16ビット必要)。すなわちFP32からFP16に変更することで16ビッド(32ビット-16ビット)も削減できる。そうすることにより、より大きなモデル、またはより大きなミニバッチで学習させることができる。<br>\n",
    "    2. **学習時間、または推論時間の短縮**<br>\n",
    "    上の例で挙げたように、FP16を使用することにより、FP32を使用する時と比べて、アクセスするバイト数を半分(16ビット)にできる。そのため、計算時間も短縮できる。NVIDIAのGPUでは演算にFP16を使用すると、FP32で計算する時と比べて、最大8倍のスループットを実現する。"
   ]
  },
  {
   "cell_type": "code",
   "execution_count": null,
   "metadata": {},
   "outputs": [],
   "source": []
  },
  {
   "cell_type": "code",
   "execution_count": null,
   "metadata": {},
   "outputs": [],
   "source": []
  }
 ],
 "metadata": {
  "kernelspec": {
   "display_name": "Python 3",
   "language": "python",
   "name": "python3"
  },
  "language_info": {
   "codemirror_mode": {
    "name": "ipython",
    "version": 3
   },
   "file_extension": ".py",
   "mimetype": "text/x-python",
   "name": "python",
   "nbconvert_exporter": "python",
   "pygments_lexer": "ipython3",
   "version": "3.5.2"
  }
 },
 "nbformat": 4,
 "nbformat_minor": 2
}
