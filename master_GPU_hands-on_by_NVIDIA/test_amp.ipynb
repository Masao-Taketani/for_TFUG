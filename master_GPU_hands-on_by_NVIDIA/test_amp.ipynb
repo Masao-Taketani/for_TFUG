{
  "nbformat": 4,
  "nbformat_minor": 0,
  "metadata": {
    "kernelspec": {
      "name": "python3",
      "display_name": "Python 3"
    },
    "language_info": {
      "codemirror_mode": {
        "name": "ipython",
        "version": 3
      },
      "file_extension": ".py",
      "mimetype": "text/x-python",
      "name": "python",
      "nbconvert_exporter": "python",
      "pygments_lexer": "ipython3",
      "version": "3.7.6"
    },
    "colab": {
      "name": "test_amp.ipynb",
      "provenance": [],
      "toc_visible": true
    },
    "accelerator": "GPU"
  },
  "cells": [
    {
      "cell_type": "markdown",
      "metadata": {
        "id": "96IL04huCtrw",
        "colab_type": "text"
      },
      "source": [
        "[![Open In Colab](https://colab.research.google.com/assets/colab-badge.svg)](https://colab.research.google.com/github/Masao-Taketani/for_TFUG/blob/master/master_GPU_hands-on_by_NVIDIA/amp_test.ipynb)"
      ]
    },
    {
      "cell_type": "markdown",
      "metadata": {
        "id": "CEf9sKM0GSv0",
        "colab_type": "text"
      },
      "source": [
        "# Test AMP to DCGAN"
      ]
    },
    {
      "cell_type": "markdown",
      "metadata": {
        "id": "lflFTZD3D4m3",
        "colab_type": "text"
      },
      "source": [
        "## Without AMP"
      ]
    },
    {
      "cell_type": "code",
      "metadata": {
        "id": "aBNkf6HnDne2",
        "colab_type": "code",
        "colab": {}
      },
      "source": [
        "import os\n",
        "\n",
        "from tensorflow.keras.layers import Input, Conv2D, BatchNormalization,\\\n",
        "Activation, Dropout, Flatten, Dense, Reshape, UpSampling2D, LeakyReLU,\\\n",
        "ZeroPadding2D\n",
        "from tensorflow.keras.optimizers import RMSprop, Adam\n",
        "from tensorflow.keras.models import Model\n",
        "from tensorflow.keras.initializers import RandomNormal\n",
        "import numpy as np\n",
        "\n",
        "from tensorflow.keras.datasets import mnist\n",
        "from PIL import Image\n",
        "import matplotlib.pyplot as plt\n",
        "%matplotlib inline"
      ],
      "execution_count": 0,
      "outputs": []
    },
    {
      "cell_type": "code",
      "metadata": {
        "id": "fJtJpaSGCtrz",
        "colab_type": "code",
        "colab": {
          "base_uri": "https://localhost:8080/",
          "height": 68
        },
        "outputId": "367e6526-e0b8-445d-d0fb-e34a426606e1"
      },
      "source": [
        "(x_train, _), (_, _) = mnist.load_data()\n",
        "x_train.shape"
      ],
      "execution_count": 2,
      "outputs": [
        {
          "output_type": "stream",
          "text": [
            "Downloading data from https://storage.googleapis.com/tensorflow/tf-keras-datasets/mnist.npz\n",
            "11493376/11490434 [==============================] - 0s 0us/step\n"
          ],
          "name": "stdout"
        },
        {
          "output_type": "execute_result",
          "data": {
            "text/plain": [
              "(60000, 28, 28)"
            ]
          },
          "metadata": {
            "tags": []
          },
          "execution_count": 2
        }
      ]
    },
    {
      "cell_type": "code",
      "metadata": {
        "id": "u5isfPgKELpA",
        "colab_type": "code",
        "colab": {
          "base_uri": "https://localhost:8080/",
          "height": 34
        },
        "outputId": "c581cd52-2d8f-4163-d0ad-1de165707df1"
      },
      "source": [
        "x_train = x_train/127.5 - 1.0\n",
        "x_train = np.expand_dims(x_train, -1)\n",
        "x_train.shape"
      ],
      "execution_count": 3,
      "outputs": [
        {
          "output_type": "execute_result",
          "data": {
            "text/plain": [
              "(60000, 28, 28, 1)"
            ]
          },
          "metadata": {
            "tags": []
          },
          "execution_count": 3
        }
      ]
    },
    {
      "cell_type": "code",
      "metadata": {
        "id": "tJ6Vc6kmEOWo",
        "colab_type": "code",
        "colab": {}
      },
      "source": [
        "\n",
        "# hyper params\n",
        "input_dims = (28, 28, 1)\n",
        "num_disc_layers = 4\n",
        "disc_conv_fils = [32, 64, 128, 256]\n",
        "disc_conv_kernel_size = [3, 3, 3, 3]\n",
        "disc_conv_strides = [2, 2, 2, 1]\n",
        "disc_batch_norm_momentum = 0.8\n",
        "disc_dropout_rate = 0.25\n",
        "\n",
        "z_dims = 100\n",
        "shape_after_dense = (7, 7, 128)\n",
        "gen_upsamp_layers = [True, True, False]\n",
        "gen_batch_norm_momentum = 0.8\n",
        "gen_dropout_rate = None\n",
        "num_gen_layers = 3\n",
        "gen_conv_fils = [128, 64, 1]\n",
        "gen_conv_kernel_size = [3, 3, 3]"
      ],
      "execution_count": 0,
      "outputs": []
    },
    {
      "cell_type": "markdown",
      "metadata": {
        "id": "sLzkyjtrETNf",
        "colab_type": "text"
      },
      "source": [
        "### Discriminator"
      ]
    },
    {
      "cell_type": "code",
      "metadata": {
        "id": "9RK7WiPkEQX6",
        "colab_type": "code",
        "colab": {
          "base_uri": "https://localhost:8080/",
          "height": 88
        },
        "outputId": "04603580-f03b-4e85-e242-1073b5239db0"
      },
      "source": [
        "disc_input = Input(shape=input_dims, name=\"disc_input\")\n",
        "x = disc_input\n",
        "\n",
        "for i in range(num_disc_layers):\n",
        "    x = Conv2D(filters=disc_conv_fils[i],\n",
        "              kernel_size=disc_conv_kernel_size[i],\n",
        "              strides=disc_conv_strides[i],\n",
        "              padding=\"same\",\n",
        "              name=\"disc_conv_\" + str(i)\n",
        "              )(x)\n",
        "    \n",
        "    if i == 1:\n",
        "        \"\"\"\n",
        "        Arguments:\n",
        "        padding: Int, or tuple of 2 ints, or tuple of 2 tuples of 2 ints.\n",
        "        If int: the same symmetric padding is applied to height and width.\n",
        "        If tuple of 2 ints: interpreted as two different symmetric padding values for height and width: (symmetric_height_pad, symmetric_width_pad).\n",
        "        If tuple of 2 tuples of 2 ints: interpreted as ((top_pad, bottom_pad), (left_pad, right_pad))\n",
        "        \"\"\"\n",
        "        x = ZeroPadding2D(padding=((0, 1), (0, 1)))(x)\n",
        "        \n",
        "    if disc_batch_norm_momentum and i > 0:\n",
        "        x = BatchNormalization(momentum=disc_batch_norm_momentum)(x)\n",
        "        \n",
        "    x = LeakyReLU(alpha=0.2)(x)\n",
        "    \n",
        "    if disc_dropout_rate:\n",
        "        x = Dropout(disc_dropout_rate)(x)\n",
        "    \n",
        "x = Flatten()(x)\n",
        "disc_output = Dense(1, activation=\"sigmoid\")(x)\n",
        "disc_model = Model(disc_input, disc_output)"
      ],
      "execution_count": 5,
      "outputs": [
        {
          "output_type": "stream",
          "text": [
            "WARNING:tensorflow:From /usr/local/lib/python3.6/dist-packages/tensorflow_core/python/ops/resource_variable_ops.py:1630: calling BaseResourceVariable.__init__ (from tensorflow.python.ops.resource_variable_ops) with constraint is deprecated and will be removed in a future version.\n",
            "Instructions for updating:\n",
            "If using Keras pass *_constraint arguments to layers.\n"
          ],
          "name": "stdout"
        }
      ]
    },
    {
      "cell_type": "code",
      "metadata": {
        "id": "Hyh1T4x_EVVQ",
        "colab_type": "code",
        "colab": {
          "base_uri": "https://localhost:8080/",
          "height": 799
        },
        "outputId": "4124f400-3a04-47cc-bb48-8fa1e2a8c6e8"
      },
      "source": [
        "disc_model.summary()"
      ],
      "execution_count": 6,
      "outputs": [
        {
          "output_type": "stream",
          "text": [
            "Model: \"model\"\n",
            "_________________________________________________________________\n",
            "Layer (type)                 Output Shape              Param #   \n",
            "=================================================================\n",
            "disc_input (InputLayer)      [(None, 28, 28, 1)]       0         \n",
            "_________________________________________________________________\n",
            "disc_conv_0 (Conv2D)         (None, 14, 14, 32)        320       \n",
            "_________________________________________________________________\n",
            "leaky_re_lu (LeakyReLU)      (None, 14, 14, 32)        0         \n",
            "_________________________________________________________________\n",
            "dropout (Dropout)            (None, 14, 14, 32)        0         \n",
            "_________________________________________________________________\n",
            "disc_conv_1 (Conv2D)         (None, 7, 7, 64)          18496     \n",
            "_________________________________________________________________\n",
            "zero_padding2d (ZeroPadding2 (None, 8, 8, 64)          0         \n",
            "_________________________________________________________________\n",
            "batch_normalization (BatchNo (None, 8, 8, 64)          256       \n",
            "_________________________________________________________________\n",
            "leaky_re_lu_1 (LeakyReLU)    (None, 8, 8, 64)          0         \n",
            "_________________________________________________________________\n",
            "dropout_1 (Dropout)          (None, 8, 8, 64)          0         \n",
            "_________________________________________________________________\n",
            "disc_conv_2 (Conv2D)         (None, 4, 4, 128)         73856     \n",
            "_________________________________________________________________\n",
            "batch_normalization_1 (Batch (None, 4, 4, 128)         512       \n",
            "_________________________________________________________________\n",
            "leaky_re_lu_2 (LeakyReLU)    (None, 4, 4, 128)         0         \n",
            "_________________________________________________________________\n",
            "dropout_2 (Dropout)          (None, 4, 4, 128)         0         \n",
            "_________________________________________________________________\n",
            "disc_conv_3 (Conv2D)         (None, 4, 4, 256)         295168    \n",
            "_________________________________________________________________\n",
            "batch_normalization_2 (Batch (None, 4, 4, 256)         1024      \n",
            "_________________________________________________________________\n",
            "leaky_re_lu_3 (LeakyReLU)    (None, 4, 4, 256)         0         \n",
            "_________________________________________________________________\n",
            "dropout_3 (Dropout)          (None, 4, 4, 256)         0         \n",
            "_________________________________________________________________\n",
            "flatten (Flatten)            (None, 4096)              0         \n",
            "_________________________________________________________________\n",
            "dense (Dense)                (None, 1)                 4097      \n",
            "=================================================================\n",
            "Total params: 393,729\n",
            "Trainable params: 392,833\n",
            "Non-trainable params: 896\n",
            "_________________________________________________________________\n"
          ],
          "name": "stdout"
        }
      ]
    },
    {
      "cell_type": "markdown",
      "metadata": {
        "id": "HtZyeCiuEew-",
        "colab_type": "text"
      },
      "source": [
        "### Generator"
      ]
    },
    {
      "cell_type": "code",
      "metadata": {
        "id": "XSnigxlKEdC1",
        "colab_type": "code",
        "colab": {}
      },
      "source": [
        "gen_input = Input(shape=(z_dims,), name=\"gen_input\")\n",
        "x = gen_input\n",
        "x = Dense(np.prod(shape_after_dense))(x)\n",
        "    \n",
        "x = Activation(\"relu\")(x)\n",
        "x = Reshape(shape_after_dense)(x)\n",
        "    \n",
        "for i in range(num_gen_layers):\n",
        "    if gen_upsamp_layers[i]:\n",
        "        x = UpSampling2D()(x)\n",
        "        \n",
        "    x = Conv2D(gen_conv_fils[i],\n",
        "              gen_conv_kernel_size[i],\n",
        "              padding=\"same\",\n",
        "              name=\"gen_conv_\" + str(i)\n",
        "              )(x)\n",
        "    \n",
        "    if i < num_gen_layers - 1:\n",
        "        if gen_batch_norm_momentum:\n",
        "            x = BatchNormalization(\n",
        "            momentum=gen_batch_norm_momentum)(x)\n",
        "            \n",
        "        x = Activation(\"relu\")(x)\n",
        "    else:\n",
        "        x = Activation(\"tanh\")(x)\n",
        "        \n",
        "gen_output = x\n",
        "gen_model = Model(gen_input, gen_output)"
      ],
      "execution_count": 0,
      "outputs": []
    },
    {
      "cell_type": "code",
      "metadata": {
        "id": "dxqJMryPEjyi",
        "colab_type": "code",
        "colab": {
          "base_uri": "https://localhost:8080/",
          "height": 629
        },
        "outputId": "ee4f9e13-0c1c-4a1a-f2fe-7ebeeb78f1ca"
      },
      "source": [
        "gen_model.summary()"
      ],
      "execution_count": 8,
      "outputs": [
        {
          "output_type": "stream",
          "text": [
            "Model: \"model_1\"\n",
            "_________________________________________________________________\n",
            "Layer (type)                 Output Shape              Param #   \n",
            "=================================================================\n",
            "gen_input (InputLayer)       [(None, 100)]             0         \n",
            "_________________________________________________________________\n",
            "dense_1 (Dense)              (None, 6272)              633472    \n",
            "_________________________________________________________________\n",
            "activation (Activation)      (None, 6272)              0         \n",
            "_________________________________________________________________\n",
            "reshape (Reshape)            (None, 7, 7, 128)         0         \n",
            "_________________________________________________________________\n",
            "up_sampling2d (UpSampling2D) (None, 14, 14, 128)       0         \n",
            "_________________________________________________________________\n",
            "gen_conv_0 (Conv2D)          (None, 14, 14, 128)       147584    \n",
            "_________________________________________________________________\n",
            "batch_normalization_3 (Batch (None, 14, 14, 128)       512       \n",
            "_________________________________________________________________\n",
            "activation_1 (Activation)    (None, 14, 14, 128)       0         \n",
            "_________________________________________________________________\n",
            "up_sampling2d_1 (UpSampling2 (None, 28, 28, 128)       0         \n",
            "_________________________________________________________________\n",
            "gen_conv_1 (Conv2D)          (None, 28, 28, 64)        73792     \n",
            "_________________________________________________________________\n",
            "batch_normalization_4 (Batch (None, 28, 28, 64)        256       \n",
            "_________________________________________________________________\n",
            "activation_2 (Activation)    (None, 28, 28, 64)        0         \n",
            "_________________________________________________________________\n",
            "gen_conv_2 (Conv2D)          (None, 28, 28, 1)         577       \n",
            "_________________________________________________________________\n",
            "activation_3 (Activation)    (None, 28, 28, 1)         0         \n",
            "=================================================================\n",
            "Total params: 856,193\n",
            "Trainable params: 855,809\n",
            "Non-trainable params: 384\n",
            "_________________________________________________________________\n"
          ],
          "name": "stdout"
        }
      ]
    },
    {
      "cell_type": "markdown",
      "metadata": {
        "id": "Q2hL8xjIEoz2",
        "colab_type": "text"
      },
      "source": [
        "### Train the GAN"
      ]
    },
    {
      "cell_type": "code",
      "metadata": {
        "id": "0B24q_L0Emem",
        "colab_type": "code",
        "colab": {
          "base_uri": "https://localhost:8080/",
          "height": 88
        },
        "outputId": "67a7f8f8-3065-4b96-b5bf-1d6130b458dc"
      },
      "source": [
        "disc_model.compile(#optimizer=RMSprop(lr=0.0008),\n",
        "                  optimizer=Adam(0.0002, 0.5),\n",
        "                  loss=\"binary_crossentropy\",\n",
        "                  metrics=[\"accuracy\"])"
      ],
      "execution_count": 9,
      "outputs": [
        {
          "output_type": "stream",
          "text": [
            "WARNING:tensorflow:From /usr/local/lib/python3.6/dist-packages/tensorflow_core/python/ops/nn_impl.py:183: where (from tensorflow.python.ops.array_ops) is deprecated and will be removed in a future version.\n",
            "Instructions for updating:\n",
            "Use tf.where in 2.0, which has the same broadcast rule as np.where\n"
          ],
          "name": "stdout"
        }
      ]
    },
    {
      "cell_type": "code",
      "metadata": {
        "id": "5EfMTEw2EvHc",
        "colab_type": "code",
        "colab": {}
      },
      "source": [
        "# freeze the discriminator model so that it only makes\n",
        "# the generator model train on this model\n",
        "disc_model.trainable = False\n",
        "comb_model_input = Input(shape=(z_dims,), name=\"comb_model_input\")\n",
        "comb_model_output = disc_model(gen_model(comb_model_input))\n",
        "comb_model = Model(comb_model_input, comb_model_output)"
      ],
      "execution_count": 0,
      "outputs": []
    },
    {
      "cell_type": "code",
      "metadata": {
        "id": "MjdrKre6Ey98",
        "colab_type": "code",
        "colab": {}
      },
      "source": [
        "comb_model.compile(#optimizer=RMSprop(0.0004),\n",
        "             optimizer=Adam(0.0002, 0.5),\n",
        "             loss=\"binary_crossentropy\",\n",
        "             metrics=[\"accuracy\"])"
      ],
      "execution_count": 0,
      "outputs": []
    },
    {
      "cell_type": "code",
      "metadata": {
        "id": "Ekhfc57ZE4qZ",
        "colab_type": "code",
        "colab": {}
      },
      "source": [
        "def train_disc(disc_model, gen_model, x_train, batch_size):\n",
        "    # create 2-dim labels\n",
        "    real_labels = np.ones((batch_size, 1))\n",
        "    fake_labels = np.zeros((batch_size, 1))\n",
        "    \n",
        "    # train on real imgs\n",
        "    # np.random.randint(min, max, size)\n",
        "    idxes = np.random.randint(0, len(x_train), batch_size)\n",
        "    real_imgs = x_train[idxes]\n",
        "    \n",
        "    disc_real_loss = disc_model.train_on_batch(real_imgs, real_labels)\n",
        "    \n",
        "    # train on fake imgs\n",
        "    # np.random.normal(mean, std, size)\n",
        "    # the blow follows the standard normal distribution\n",
        "    noise = np.random.normal(0, 1, (batch_size, z_dims))\n",
        "    fake_imgs = gen_model.predict(noise)\n",
        "    \n",
        "    disc_fake_loss = disc_model.train_on_batch(fake_imgs, fake_labels)\n",
        "    disc_loss = 0.5 * np.add(disc_real_loss, disc_fake_loss)\n",
        "    return disc_loss\n",
        "\n",
        "\n",
        "def train_gen(comb_model, batch_size):\n",
        "    real_labels = np.ones((batch_size, 1))\n",
        "    noise = np.random.normal(0, 1, (batch_size, z_dims))\n",
        "    \n",
        "    gen_loss = comb_model.train_on_batch(noise, real_labels)\n",
        "    return gen_loss\n",
        "\n",
        "\n",
        "def plot_generated_imgs(rows, cols, noises, it, gen_model):\n",
        "    print(\"iteration: \", it)\n",
        "\n",
        "    gen_imgs = gen_model.predict(noises)\n",
        "\n",
        "    # since gen model outputs values ranging from -1 to 1,\n",
        "    # nomalize imgs ranging from 0 to 1\n",
        "    #=====================================================================\n",
        "    # matplotlib.pyplot.imshow(..., norm=None, ...):\n",
        "    # By default, a linear scaling mapping the lowest value to 0 and\n",
        "    # the highest to 1 is used. This parameter is ignored for RGB(A) data.\n",
        "    #=====================================================================\n",
        "\n",
        "    gen_imgs = 0.5 * gen_imgs + 0.5\n",
        "\n",
        "    fig, axs = plt.subplots(rows, cols)\n",
        "\n",
        "    ith_img = 0\n",
        "    for row in range(rows):\n",
        "        for col in range(cols):\n",
        "            try:\n",
        "                axs[row, col].imshow(gen_imgs[ith_img,:,:,0], cmap=\"gray\")\n",
        "                axs[row, col].axis(\"off\")\n",
        "                ith_img += 1\n",
        "            except IndexError:\n",
        "                axs[col].imshow(gen_imgs[ith_img,:,:,0], cmap=\"gray\")\n",
        "                axs[col].axis(\"off\")\n",
        "                ith_img += 1"
      ],
      "execution_count": 0,
      "outputs": []
    },
    {
      "cell_type": "code",
      "metadata": {
        "id": "fMQkHhwKFEk-",
        "colab_type": "code",
        "colab": {
          "base_uri": "https://localhost:8080/",
          "height": 1000
        },
        "outputId": "370eee29-0fa9-478e-8710-803e7def62a2"
      },
      "source": [
        "%%time\n",
        "\n",
        "iterations = 10_000\n",
        "batch_size = 64\n",
        "rows, cols = 1, 5\n",
        "noises = np.random.normal(0, 1, (rows * cols, z_dims))\n",
        "\n",
        "print(\"[training log]\")\n",
        "for it in range(iterations):\n",
        "    disc_loss = train_disc(disc_model, gen_model, x_train, batch_size)\n",
        "    gen_loss = train_gen(comb_model, batch_size)\n",
        "    \n",
        "    if it % 1000 == 0:\n",
        "        print(\"iteration: %d disc loss: %f, disc acc: %.2f%% | gen loss: %f, \"\n",
        "        \"gen acc: %.2f%%\" % \n",
        "          (it, disc_loss[0], 100 * disc_loss[1], gen_loss[0], gen_loss[1]))\n",
        "        plot_generated_imgs(rows, cols, noises, it, gen_model)\n",
        "        \n",
        "print(\"[5 generated images for each 1000th iteration]\")"
      ],
      "execution_count": 13,
      "outputs": [
        {
          "output_type": "stream",
          "text": [
            "[training log]\n",
            "WARNING:tensorflow:Discrepancy between trainable weights and collected trainable weights, did you set `model.trainable` without calling `model.compile` after ?\n",
            "WARNING:tensorflow:Discrepancy between trainable weights and collected trainable weights, did you set `model.trainable` without calling `model.compile` after ?\n",
            "iteration: 0 disc loss: 1.214101, disc acc: 43.75% | gen loss: 0.399688, gen acc: 0.80%\n",
            "iteration:  0\n",
            "iteration: 1000 disc loss: 0.743418, disc acc: 55.47% | gen loss: 0.912604, gen acc: 0.36%\n",
            "iteration:  1000\n",
            "iteration: 2000 disc loss: 0.711058, disc acc: 55.47% | gen loss: 0.951016, gen acc: 0.36%\n",
            "iteration:  2000\n",
            "iteration: 3000 disc loss: 0.691273, disc acc: 55.47% | gen loss: 0.803279, gen acc: 0.42%\n",
            "iteration:  3000\n",
            "iteration: 4000 disc loss: 0.706184, disc acc: 60.16% | gen loss: 0.971973, gen acc: 0.25%\n",
            "iteration:  4000\n",
            "iteration: 5000 disc loss: 0.669619, disc acc: 59.38% | gen loss: 0.973267, gen acc: 0.23%\n",
            "iteration:  5000\n",
            "iteration: 6000 disc loss: 0.672181, disc acc: 59.38% | gen loss: 0.836976, gen acc: 0.36%\n",
            "iteration:  6000\n",
            "iteration: 7000 disc loss: 0.679775, disc acc: 60.16% | gen loss: 0.866419, gen acc: 0.30%\n",
            "iteration:  7000\n",
            "iteration: 8000 disc loss: 0.676737, disc acc: 57.03% | gen loss: 0.907830, gen acc: 0.27%\n",
            "iteration:  8000\n",
            "iteration: 9000 disc loss: 0.641471, disc acc: 62.50% | gen loss: 0.887883, gen acc: 0.30%\n",
            "iteration:  9000\n",
            "[5 generated images for each 1000th iteration]\n",
            "CPU times: user 5min 59s, sys: 44.1 s, total: 6min 43s\n",
            "Wall time: 6min 18s\n"
          ],
          "name": "stdout"
        },
        {
          "output_type": "display_data",
          "data": {
            "image/png": "[encoded data removed]",
            "text/plain": [
              "<Figure size 432x288 with 5 Axes>"
            ]
          },
          "metadata": {
            "tags": []
          }
        },
        {
          "output_type": "display_data",
          "data": {
            "image/png": "[encoded data removed]",
            "text/plain": [
              "<Figure size 432x288 with 5 Axes>"
            ]
          },
          "metadata": {
            "tags": []
          }
        },
        {
          "output_type": "display_data",
          "data": {
            "image/png": "[encoded data removed]",
            "text/plain": [
              "<Figure size 432x288 with 5 Axes>"
            ]
          },
          "metadata": {
            "tags": []
          }
        },
        {
          "output_type": "display_data",
          "data": {
            "image/png": "[encoded data removed]",
            "text/plain": [
              "<Figure size 432x288 with 5 Axes>"
            ]
          },
          "metadata": {
            "tags": []
          }
        },
        {
          "output_type": "display_data",
          "data": {
            "image/png": "[encoded data removed]",
            "text/plain": [
              "<Figure size 432x288 with 5 Axes>"
            ]
          },
          "metadata": {
            "tags": []
          }
        },
        {
          "output_type": "display_data",
          "data": {
            "image/png": "[encoded data removed]",
            "text/plain": [
              "<Figure size 432x288 with 5 Axes>"
            ]
          },
          "metadata": {
            "tags": []
          }
        },
        {
          "output_type": "display_data",
          "data": {
            "image/png": "[encoded data removed]",
            "text/plain": [
              "<Figure size 432x288 with 5 Axes>"
            ]
          },
          "metadata": {
            "tags": []
          }
        },
        {
          "output_type": "display_data",
          "data": {
            "image/png": "[encoded data removed]",
            "text/plain": [
              "<Figure size 432x288 with 5 Axes>"
            ]
          },
          "metadata": {
            "tags": []
          }
        },
        {
          "output_type": "display_data",
          "data": {
            "image/png": "[encoded data removed]",
            "text/plain": [
              "<Figure size 432x288 with 5 Axes>"
            ]
          },
          "metadata": {
            "tags": []
          }
        },
        {
          "output_type": "display_data",
          "data": {
            "image/png": "[encoded data removed]",
            "text/plain": [
              "<Figure size 432x288 with 5 Axes>"
            ]
          },
          "metadata": {
            "tags": []
          }
        }
      ]
    },
    {
      "cell_type": "markdown",
      "metadata": {
        "id": "vLftFQxtFNww",
        "colab_type": "text"
      },
      "source": [
        "## With AMP"
      ]
    },
    {
      "cell_type": "code",
      "metadata": {
        "id": "0heRFMDHL74Z",
        "colab_type": "code",
        "colab": {
          "base_uri": "https://localhost:8080/",
          "height": 289
        },
        "outputId": "dcd361e0-0a18-46ce-ca9e-ff0e493a2e4b"
      },
      "source": [
        "!nvidia-smi"
      ],
      "execution_count": 17,
      "outputs": [
        {
          "output_type": "stream",
          "text": [
            "Wed Feb  5 11:51:38 2020       \n",
            "+-----------------------------------------------------------------------------+\n",
            "| NVIDIA-SMI 440.48.02    Driver Version: 418.67       CUDA Version: 10.1     |\n",
            "|-------------------------------+----------------------+----------------------+\n",
            "| GPU  Name        Persistence-M| Bus-Id        Disp.A | Volatile Uncorr. ECC |\n",
            "| Fan  Temp  Perf  Pwr:Usage/Cap|         Memory-Usage | GPU-Util  Compute M. |\n",
            "|===============================+======================+======================|\n",
            "|   0  Tesla T4            Off  | 00000000:00:04.0 Off |                    0 |\n",
            "| N/A   60C    P0    29W /  70W |   1137MiB / 15079MiB |      0%      Default |\n",
            "+-------------------------------+----------------------+----------------------+\n",
            "                                                                               \n",
            "+-----------------------------------------------------------------------------+\n",
            "| Processes:                                                       GPU Memory |\n",
            "|  GPU       PID   Type   Process name                             Usage      |\n",
            "|=============================================================================|\n",
            "+-----------------------------------------------------------------------------+\n"
          ],
          "name": "stdout"
        }
      ]
    },
    {
      "cell_type": "markdown",
      "metadata": {
        "id": "YXpt3IiSMWyC",
        "colab_type": "text"
      },
      "source": [
        "### restart session"
      ]
    },
    {
      "cell_type": "code",
      "metadata": {
        "id": "r8FHo-8DFMOi",
        "colab_type": "code",
        "colab": {}
      },
      "source": [
        "os.kill(os.getpid(), 9)"
      ],
      "execution_count": 0,
      "outputs": []
    },
    {
      "cell_type": "code",
      "metadata": {
        "id": "Z2twYnGpFQ8v",
        "colab_type": "code",
        "colab": {
          "base_uri": "https://localhost:8080/",
          "height": 306
        },
        "outputId": "a369d5eb-36a4-4af3-c4c2-716efaeb39b5"
      },
      "source": [
        "!nvidia-smi"
      ],
      "execution_count": 1,
      "outputs": [
        {
          "output_type": "stream",
          "text": [
            "Wed Feb  5 11:51:55 2020       \n",
            "+-----------------------------------------------------------------------------+\n",
            "| NVIDIA-SMI 440.48.02    Driver Version: 418.67       CUDA Version: 10.1     |\n",
            "|-------------------------------+----------------------+----------------------+\n",
            "| GPU  Name        Persistence-M| Bus-Id        Disp.A | Volatile Uncorr. ECC |\n",
            "| Fan  Temp  Perf  Pwr:Usage/Cap|         Memory-Usage | GPU-Util  Compute M. |\n",
            "|===============================+======================+======================|\n",
            "|   0  Tesla T4            Off  | 00000000:00:04.0 Off |                    0 |\n",
            "| N/A   57C    P8    11W /  70W |      0MiB / 15079MiB |      0%      Default |\n",
            "+-------------------------------+----------------------+----------------------+\n",
            "                                                                               \n",
            "+-----------------------------------------------------------------------------+\n",
            "| Processes:                                                       GPU Memory |\n",
            "|  GPU       PID   Type   Process name                             Usage      |\n",
            "|=============================================================================|\n",
            "|  No running processes found                                                 |\n",
            "+-----------------------------------------------------------------------------+\n"
          ],
          "name": "stdout"
        }
      ]
    },
    {
      "cell_type": "code",
      "metadata": {
        "id": "OcHb_7cwMULC",
        "colab_type": "code",
        "colab": {}
      },
      "source": [
        "import os\n",
        "\n",
        "import tensorflow as tf\n",
        "from tensorflow.keras.layers import Input, Conv2D, BatchNormalization,\\\n",
        "Activation, Dropout, Flatten, Dense, Reshape, UpSampling2D, LeakyReLU,\\\n",
        "ZeroPadding2D\n",
        "from tensorflow.keras.optimizers import RMSprop, Adam\n",
        "from tensorflow.keras.models import Model\n",
        "from tensorflow.keras.initializers import RandomNormal\n",
        "import numpy as np\n",
        "\n",
        "from tensorflow.keras.datasets import mnist\n",
        "from PIL import Image\n",
        "import matplotlib.pyplot as plt\n",
        "%matplotlib inline"
      ],
      "execution_count": 0,
      "outputs": []
    },
    {
      "cell_type": "code",
      "metadata": {
        "id": "SvIcfKkvNAX5",
        "colab_type": "code",
        "colab": {}
      },
      "source": [
        "### Set up ENV to Train with AMP"
      ],
      "execution_count": 0,
      "outputs": []
    },
    {
      "cell_type": "code",
      "metadata": {
        "id": "VeXhaxaiMwbS",
        "colab_type": "code",
        "colab": {}
      },
      "source": [
        "os.environ[\"TF_ENABLE_AUTO_MIXED_PRECISION\"] = \"1\""
      ],
      "execution_count": 0,
      "outputs": []
    },
    {
      "cell_type": "code",
      "metadata": {
        "id": "HaKGZYd0Nec0",
        "colab_type": "code",
        "colab": {}
      },
      "source": [
        ""
      ],
      "execution_count": 0,
      "outputs": []
    }
  ]
}